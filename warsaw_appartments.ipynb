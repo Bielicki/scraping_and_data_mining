{
 "cells": [
  {
   "cell_type": "markdown",
   "metadata": {},
   "source": [
    "### Import all web scraping liberaries"
   ]
  },
  {
   "cell_type": "code",
   "execution_count": 9,
   "metadata": {
    "collapsed": true
   },
   "outputs": [],
   "source": [
    "import requests\n",
    "from bs4 import BeautifulSoup"
   ]
  },
  {
   "cell_type": "markdown",
   "metadata": {},
   "source": [
    "### Find number of pages"
   ]
  },
  {
   "cell_type": "code",
   "execution_count": 10,
   "metadata": {},
   "outputs": [
    {
     "data": {
      "text/plain": [
       "683"
      ]
     },
     "execution_count": 10,
     "metadata": {},
     "output_type": "execute_result"
    }
   ],
   "source": [
    "r = requests.get(\"https://www.otodom.pl/sprzedaz/mieszkanie/warszawa/?dist=0&subregion_id=197&city_id=26&order=filter_float_price%3Aasc&nrAdsPerPage=72&search%5Border%5D=filter_float_price%3Aasc\")\n",
    "soup = BeautifulSoup(r.content, \"lxml\")\n",
    "\n",
    "number_of_pages = soup.find(\"strong\", {\"class\":\"current\"}).text\n",
    "number_of_pages = int(number_of_pages)\n",
    "number_of_pages"
   ]
  },
  {
   "cell_type": "markdown",
   "metadata": {},
   "source": [
    "### Scrape all inforamtion we need\n",
    "####  *if you have problems with scraping or slow internet connection use included CSV file to load dataframe"
   ]
  },
  {
   "cell_type": "code",
   "execution_count": 42,
   "metadata": {},
   "outputs": [
    {
     "name": "stdout",
     "output_type": "stream",
     "text": [
      "Scraped 45173 appartments data\n"
     ]
    }
   ],
   "source": [
    "l=[]\n",
    "for page_number in range(1, number_of_pages + 1):\n",
    "    base_url = f\"https://www.otodom.pl/sprzedaz/mieszkanie/warszawa/?dist=0&subregion_id=197&city_id=26&order=filter_float_price%3Aasc&nrAdsPerPage=72&search%5Border%5D=filter_float_price%3Aasc&page=\"\n",
    "    \n",
    "    r = requests.get(base_url + str(page_number))\n",
    "    soup = BeautifulSoup(r.content, \"lxml\")\n",
    "    \n",
    "    appartments = soup.find_all(\"div\", {\"class\":\"offer-item-details\"})\n",
    "\n",
    "    for appartment in appartments:\n",
    "        \n",
    "            area = appartment.find(\"li\",{\"class\",\"offer-item-area\"})\n",
    "            location = appartment.find(\"p\",{\"class\", \"text-nowrap\"})\n",
    "            price= appartment.find(\"li\",{\"class\", \"offer-item-price\"})\n",
    "            rooms = appartment.find(\"li\",{\"class\", \"offer-item-rooms\"})\n",
    "            \n",
    "            labels = ['Area', 'Location', 'Price', 'Rooms']\n",
    "            attrs = [area, location, price, rooms]\n",
    "            d ={}\n",
    "            \n",
    "            for attr, label in iter(zip(attrs, labels)):\n",
    "                if attr:\n",
    "                    d[label] = attr.text\n",
    "                else:\n",
    "                    d[label] = None\n",
    "\n",
    "            l.append(d)\n",
    "\n",
    "print(f'Scraped {len(l)} appartments data')"
   ]
  },
  {
   "cell_type": "markdown",
   "metadata": {},
   "source": [
    "### Import Pandas and Numpy liberaries"
   ]
  },
  {
   "cell_type": "code",
   "execution_count": 2,
   "metadata": {
    "collapsed": true
   },
   "outputs": [],
   "source": [
    "import pandas as pd\n",
    "import numpy as np"
   ]
  },
  {
   "cell_type": "markdown",
   "metadata": {},
   "source": [
    "### Create a dataframe with our scraped data"
   ]
  },
  {
   "cell_type": "code",
   "execution_count": 183,
   "metadata": {
    "scrolled": true
   },
   "outputs": [
    {
     "data": {
      "text/html": [
       "<div>\n",
       "<style>\n",
       "    .dataframe thead tr:only-child th {\n",
       "        text-align: right;\n",
       "    }\n",
       "\n",
       "    .dataframe thead th {\n",
       "        text-align: left;\n",
       "    }\n",
       "\n",
       "    .dataframe tbody tr th {\n",
       "        vertical-align: top;\n",
       "    }\n",
       "</style>\n",
       "<table border=\"1\" class=\"dataframe\">\n",
       "  <thead>\n",
       "    <tr style=\"text-align: right;\">\n",
       "      <th></th>\n",
       "      <th>Area</th>\n",
       "      <th>Location</th>\n",
       "      <th>Price</th>\n",
       "      <th>Rooms</th>\n",
       "    </tr>\n",
       "  </thead>\n",
       "  <tbody>\n",
       "    <tr>\n",
       "      <th>0</th>\n",
       "      <td>31 m²</td>\n",
       "      <td>Mieszkanie na sprzedaż: Warszawa, Wola</td>\n",
       "      <td>\\n                                            ...</td>\n",
       "      <td>2 pokoje</td>\n",
       "    </tr>\n",
       "    <tr>\n",
       "      <th>1</th>\n",
       "      <td>46 m²</td>\n",
       "      <td>Mieszkanie na sprzedaż: Warszawa, Wola, Wolska</td>\n",
       "      <td>\\n                                            ...</td>\n",
       "      <td>2 pokoje</td>\n",
       "    </tr>\n",
       "    <tr>\n",
       "      <th>2</th>\n",
       "      <td>50,88 m²</td>\n",
       "      <td>Mieszkanie na sprzedaż: Warszawa</td>\n",
       "      <td>\\n                                            ...</td>\n",
       "      <td>2 pokoje</td>\n",
       "    </tr>\n",
       "    <tr>\n",
       "      <th>3</th>\n",
       "      <td>64,49 m²</td>\n",
       "      <td>Mieszkanie na sprzedaż: Warszawa, Wola,  Wawrz...</td>\n",
       "      <td>\\n                                            ...</td>\n",
       "      <td>3 pokoje</td>\n",
       "    </tr>\n",
       "    <tr>\n",
       "      <th>4</th>\n",
       "      <td>46,63 m²</td>\n",
       "      <td>Mieszkanie na sprzedaż: Warszawa, Targówek</td>\n",
       "      <td>\\n                                            ...</td>\n",
       "      <td>2 pokoje</td>\n",
       "    </tr>\n",
       "  </tbody>\n",
       "</table>\n",
       "</div>"
      ],
      "text/plain": [
       "       Area                                           Location  \\\n",
       "0     31 m²             Mieszkanie na sprzedaż: Warszawa, Wola   \n",
       "1     46 m²     Mieszkanie na sprzedaż: Warszawa, Wola, Wolska   \n",
       "2  50,88 m²                   Mieszkanie na sprzedaż: Warszawa   \n",
       "3  64,49 m²  Mieszkanie na sprzedaż: Warszawa, Wola,  Wawrz...   \n",
       "4  46,63 m²         Mieszkanie na sprzedaż: Warszawa, Targówek   \n",
       "\n",
       "                                               Price     Rooms  \n",
       "0  \\n                                            ...  2 pokoje  \n",
       "1  \\n                                            ...  2 pokoje  \n",
       "2  \\n                                            ...  2 pokoje  \n",
       "3  \\n                                            ...  3 pokoje  \n",
       "4  \\n                                            ...  2 pokoje  "
      ]
     },
     "execution_count": 183,
     "metadata": {},
     "output_type": "execute_result"
    }
   ],
   "source": [
    "df = pd.DataFrame(l)\n",
    "df.drop_duplicates(inplace=True)\n",
    "df.dropna(inplace=True)\n",
    "df.head()"
   ]
  },
  {
   "cell_type": "markdown",
   "metadata": {},
   "source": [
    "### Or load from CSV\n",
    "#### *I commented code so you don't load from CSV accidently\n",
    "#### Includede CSV contains data scraped on 09.09.2017"
   ]
  },
  {
   "cell_type": "code",
   "execution_count": 56,
   "metadata": {},
   "outputs": [],
   "source": [
    "#df = pd.read_csv('Warsaw_appartment_df', index_col=0)\n",
    "#df.head(10)"
   ]
  },
  {
   "cell_type": "code",
   "execution_count": 57,
   "metadata": {},
   "outputs": [
    {
     "name": "stdout",
     "output_type": "stream",
     "text": [
      "<class 'pandas.core.frame.DataFrame'>\n",
      "Int64Index: 27676 entries, 0 to 45023\n",
      "Data columns (total 4 columns):\n",
      "Area        27676 non-null object\n",
      "Location    27676 non-null object\n",
      "Price       27676 non-null object\n",
      "Rooms       27676 non-null object\n",
      "dtypes: object(4)\n",
      "memory usage: 1.1+ MB\n"
     ]
    }
   ],
   "source": [
    "df.info()"
   ]
  },
  {
   "cell_type": "markdown",
   "metadata": {},
   "source": [
    "### Prepare data"
   ]
  },
  {
   "cell_type": "code",
   "execution_count": 58,
   "metadata": {
    "collapsed": true
   },
   "outputs": [],
   "source": [
    "df['Price'] = df['Price'].apply(lambda x: x.replace('\\n','').replace(' ', '').replace('zł', '').replace('~', ''))\n",
    "df['Price'] = df['Price'].apply(lambda x: x.replace(',', '.'))\n",
    "df['Price'] = df['Price'].apply(lambda x: float(x))"
   ]
  },
  {
   "cell_type": "code",
   "execution_count": 59,
   "metadata": {},
   "outputs": [
    {
     "data": {
      "text/plain": [
       "0    230000.0\n",
       "1    306000.0\n",
       "2    359661.0\n",
       "3    542304.0\n",
       "4    299000.0\n",
       "Name: Price, dtype: float64"
      ]
     },
     "execution_count": 59,
     "metadata": {},
     "output_type": "execute_result"
    }
   ],
   "source": [
    "df['Price'].head()"
   ]
  },
  {
   "cell_type": "code",
   "execution_count": 60,
   "metadata": {
    "collapsed": true
   },
   "outputs": [],
   "source": [
    "df['Rooms'] = df['Rooms'].apply(lambda x: x[0] if x[0] !='>' else 10)\n",
    "df['Rooms'] = df['Rooms'].apply(lambda x: int(x))\n",
    "df['Rooms'] = df['Rooms'].apply(lambda x: int(x))"
   ]
  },
  {
   "cell_type": "code",
   "execution_count": 61,
   "metadata": {},
   "outputs": [
    {
     "data": {
      "text/plain": [
       "0    2\n",
       "1    2\n",
       "2    2\n",
       "3    3\n",
       "4    2\n",
       "Name: Rooms, dtype: int64"
      ]
     },
     "execution_count": 61,
     "metadata": {},
     "output_type": "execute_result"
    }
   ],
   "source": [
    "df['Rooms'].head()"
   ]
  },
  {
   "cell_type": "code",
   "execution_count": 62,
   "metadata": {
    "collapsed": true
   },
   "outputs": [],
   "source": [
    "df['Area'] = df['Area'].apply(lambda x: x.replace('m²',''))\n",
    "df['Area'] = df['Area'].apply(lambda x: x.replace(',','.'))\n",
    "df['Area'] = df['Area'].apply(lambda x: x.replace(' ',''))\n",
    "df['Area'] = df['Area'].apply(lambda x: float(x))\n",
    "df = df[df['Area'] < 300]"
   ]
  },
  {
   "cell_type": "code",
   "execution_count": 63,
   "metadata": {},
   "outputs": [
    {
     "data": {
      "text/plain": [
       "0     31.00\n",
       "1     46.00\n",
       "2     50.88\n",
       "3     64.49\n",
       "4     46.63\n",
       "5     46.00\n",
       "6     54.00\n",
       "7    163.26\n",
       "8    133.77\n",
       "9      1.00\n",
       "Name: Area, dtype: float64"
      ]
     },
     "execution_count": 63,
     "metadata": {},
     "output_type": "execute_result"
    }
   ],
   "source": [
    "df['Area'].head(10)"
   ]
  },
  {
   "cell_type": "code",
   "execution_count": 64,
   "metadata": {
    "collapsed": true
   },
   "outputs": [],
   "source": [
    "df['Location'] = df['Location'].apply(lambda x: x.replace('Mieszkanie na sprzedaż: ', ''))\n",
    "df = df[df['Location'] != 'Warszawa']"
   ]
  },
  {
   "cell_type": "markdown",
   "metadata": {},
   "source": [
    "### Functions to get Longitude and Latitude base on location"
   ]
  },
  {
   "cell_type": "code",
   "execution_count": 65,
   "metadata": {
    "collapsed": true
   },
   "outputs": [],
   "source": [
    "from time import sleep\n",
    "from geopy.geocoders import GoogleV3\n",
    "\n",
    "def locate(s):\n",
    "    locator = GoogleV3(api_key='YOUR_GOOGLE_API_KEY', timeout=10)\n",
    "    return locator.geocode(s)"
   ]
  },
  {
   "cell_type": "code",
   "execution_count": 66,
   "metadata": {},
   "outputs": [],
   "source": [
    "# Little trick to save on request to geolocation API\n",
    "# Just check unique locations and and then apply results to df :)\n",
    "# I also separeted only locations to contain only districts since I only need districts locations for visualization\n",
    "\n",
    "df['Location'] = df['Location'].apply(lambda x: ', '.join(x.split(',')[:2]))"
   ]
  },
  {
   "cell_type": "code",
   "execution_count": 67,
   "metadata": {},
   "outputs": [
    {
     "data": {
      "text/plain": [
       "428"
      ]
     },
     "execution_count": 67,
     "metadata": {},
     "output_type": "execute_result"
    }
   ],
   "source": [
    "df['Location'].nunique()"
   ]
  },
  {
   "cell_type": "code",
   "execution_count": 68,
   "metadata": {},
   "outputs": [],
   "source": [
    "locations = df['Location'].unique()"
   ]
  },
  {
   "cell_type": "code",
   "execution_count": 44,
   "metadata": {},
   "outputs": [
    {
     "data": {
      "text/plain": [
       "{'Warszawa,   1 Sierpnia': Location(1 Sierpnia, Warszawa, Poland, (52.1927382, 20.9754866, 0.0)),\n",
       " 'Warszawa,   Aleja Komisji Edukacji Narodowej 98': Location(Aleja Komisji Edukacji Narodowej 98, Warszawa, Poland, (52.1613313, 21.029845, 0.0)),\n",
       " 'Warszawa,   Aleje Jerozolimskie': Location(Aleje Jerozolimskie, Poland, (52.1947951, 20.9262445, 0.0)),\n",
       " 'Warszawa,   Biały Kamień': Location(Biały Kamień, Warszawa, Poland, (52.2060002, 20.9960858, 0.0)),\n",
       " 'Warszawa,   Bluszczańska': Location(Bluszczańska, Warszawa, Poland, (52.2092363, 21.0639084, 0.0)),\n",
       " 'Warszawa,   Egipska 6': Location(Egipska 6, Warszawa, Poland, (52.225912, 21.068903, 0.0)),\n",
       " 'Warszawa,   Gioacchino Rossiniego': Location(Rossiniego, 01-001 Warszawa, Poland, (52.3434263, 21.0518419, 0.0)),\n",
       " 'Warszawa,   Grunwaldzki': Location(plac Grunwaldzki, 01-787 Warszawa, Poland, (52.2623094, 20.9799711, 0.0)),\n",
       " 'Warszawa,   Głębocka': Location(Głębocka, Warszawa, Poland, (52.3102751, 21.0620732, 0.0)),\n",
       " 'Warszawa,   Herbu Szreniawa': Location(Herbu Szreniawa, Warszawa, Poland, (52.1609784, 21.0796398, 0.0)),\n",
       " 'Warszawa,   Jana Kazimierza': Location(Jana Kazimierza, Warszawa, Poland, (52.2229788, 20.9395002, 0.0)),\n",
       " 'Warszawa,   Jana Kochanowskiego': Location(Kochanowskiego, Warszawa, Poland, (52.2686547, 20.9451469, 0.0)),\n",
       " 'Warszawa,   Jana Nagórskiego': Location(Jana Nagórskiego, Warszawa, Poland, (52.2242285, 21.0906626, 0.0)),\n",
       " 'Warszawa,   Jana Nowaka-Jeziorańskiego': Location(Jana Nowaka-Jeziorańskiego, Warszawa, Poland, (52.2312337, 21.0925229, 0.0)),\n",
       " 'Warszawa,   Jana Pawła II': Location(Jana Pawła II, Warszawa, Poland, (52.21642070000001, 21.2325238, 0.0)),\n",
       " 'Warszawa,   Juliusza Słowackiego': Location(Słowackiego, Warszawa, Poland, (52.2715212, 20.9740958, 0.0)),\n",
       " 'Warszawa,   Kawcza': Location(Kawcza, Warszawa, Poland, (52.2393741, 21.1040211, 0.0)),\n",
       " 'Warszawa,   Kowieńska': Location(Kowieńska, Warszawa, Poland, (52.2628553, 21.0398899, 0.0)),\n",
       " 'Warszawa,   Krasiczyńska': Location(Krasiczyńska, Warszawa, Poland, (52.29572719999999, 21.0455911, 0.0)),\n",
       " 'Warszawa,   Lazurowa': Location(Lazurowa, Warszawa, Poland, (52.2326597, 20.8968437, 0.0)),\n",
       " 'Warszawa,   Literacka': Location(Literacka, Warszawa, Poland, (52.2647787, 20.9520462, 0.0)),\n",
       " 'Warszawa,   Marcina Kasprzaka': Location(Kasprzaka, Warszawa, Poland, (52.2279251, 20.9585114, 0.0)),\n",
       " 'Warszawa,   Marymoncka': Location(Marymoncka, Warszawa, Poland, (52.2890588, 20.9509477, 0.0)),\n",
       " 'Warszawa,   Niepodległości': Location(aleja Niepodległości, Warszawa, Poland, (52.2012734, 21.0109725, 0.0)),\n",
       " 'Warszawa,   Nowosielecka': Location(Nowosielecka, Warszawa, Poland, (52.2111617, 21.047332, 0.0)),\n",
       " 'Warszawa,   Ostródzka': Location(Ostródzka, Warszawa, Poland, (52.3242539, 21.0483317, 0.0)),\n",
       " 'Warszawa,   Pabla Picassa': Location(Pabla Picassa, Warszawa, Poland, (52.31180200000001, 20.9548674, 0.0)),\n",
       " 'Warszawa,   Piaskowa': Location(Piaskowa, Warszawa, Poland, (52.2550097, 20.9764354, 0.0)),\n",
       " 'Warszawa,   Prymasa Tysiąclecia': Location(Aleja Prymasa Tysiąclecia, Warszawa, Poland, (52.2389114, 20.9561244, 0.0)),\n",
       " 'Warszawa,   Radzymińska 54/58': Location(Radzymińska 54/58, Warszawa, Poland, (52.2601919, 21.0541619, 0.0)),\n",
       " 'Warszawa,   Rozłogi': Location(Rozłogi, Warszawa, Poland, (52.2245578, 20.9003641, 0.0)),\n",
       " 'Warszawa,   Ryżowa': Location(Ryżowa, Warszawa, Poland, (52.1898596, 20.9063161, 0.0)),\n",
       " 'Warszawa,   Sabały 41': Location(Sabały 41, Warszawa, Poland, (52.1872059, 20.9577039, 0.0)),\n",
       " 'Warszawa,   Stanisława Kulczyńskiego': Location(Stanisława Kulczyńskiego, Warszawa, Poland, (52.1474585, 21.0543841, 0.0)),\n",
       " 'Warszawa,   Stanów Zjednoczonych': Location(aleja Stanów Zjednoczonych, Warszawa, Poland, (52.2313538, 21.0718995, 0.0)),\n",
       " 'Warszawa,   Słodowiec': Location(Słodowiec, 05-077 Warszawa, Poland, (52.2724066, 20.9583719, 0.0)),\n",
       " 'Warszawa,   Towarowa': Location(Towarowa, Warszawa, Poland, (52.2300214, 20.9842502, 0.0)),\n",
       " 'Warszawa,   Wał Miedzeszyński': Location(Wał Miedzeszyński, Warszawa, Poland, (52.1937338, 21.12165, 0.0)),\n",
       " 'Warszawa,   Wieluńska': Location(Wieluńska, Warszawa, Poland, (52.23189679999999, 20.9545982, 0.0)),\n",
       " 'Warszawa,   Włodarzewska': Location(Włodarzewska, Warszawa, Poland, (52.2021313, 20.9554848, 0.0)),\n",
       " 'Warszawa,   gen. Józefa Hallera': Location(plac Hallera, 03-464 Warszawa, Poland, (52.2605528, 21.0279172, 0.0)),\n",
       " 'Warszawa,   Żelazna': Location(Żelazna, Warszawa, Poland, (52.2346685, 20.9907683, 0.0)),\n",
       " 'Warszawa,   Żurawia': Location(Żurawia, Warszawa, Poland, (52.2285658, 21.0160894, 0.0)),\n",
       " 'Warszawa,  ***APARTAMENTY Z WIDOKIEM NA CENTRUM WARSZAWAY***': Location(Marszałkowska 94, 00-510 Warszawa, Poland, (52.229439, 21.012688, 0.0)),\n",
       " 'Warszawa,  ***NOWA INWESTYCJA***DUŻY WYBÓR MIESZKAŃ***': Location(Racjonalizacji 7, 02-673 Warszawa, Poland, (52.1883832, 20.9924805, 0.0)),\n",
       " 'Warszawa,  ***NOWE MIESZKANIA  BEZPOŚREDNIO OD DEWELOPERA***': Location(Świętokrzyska 30, 00-116 Warszawa, Poland, (52.2350158, 21.0059342, 0.0)),\n",
       " 'Warszawa,  ***NOWE MIESZKANIA MDM WOLA': Location(Przyokopowa 33, 01-208 Warszawa, Poland, (52.231613, 20.979719, 0.0)),\n",
       " 'Warszawa,  ***NOWE MIESZKANIA-WOLA-TARCHOMIN-BIAŁOŁĘKA-TEŻ W MDM***': None,\n",
       " 'Warszawa,  ***PEWNY DEWELOPER***CENY OD 136 tyŚ ***': None,\n",
       " 'Warszawa,  **NOWE MIESZKANIA BEZPOŚREDNIO OD DEWELOPERA': Location(Wiejska 12, 00-490 Warszawa, Poland, (52.22650729999999, 21.0253799, 0.0)),\n",
       " 'Warszawa,  1 Sierpnia': Location(1 Sierpnia, Warszawa, Poland, (52.1927382, 20.9754866, 0.0)),\n",
       " 'Warszawa,  2 balkony': Location(Szobera 2/27, 01-318 Warszawa, Poland, (52.23651419999999, 20.9022091, 0.0)),\n",
       " 'Warszawa,  Adama Branickiego': Location(Adama Branickiego, Warszawa, Poland, (52.1572118, 21.0785942, 0.0)),\n",
       " 'Warszawa,  Al. Solidarności': Location(aleja Solidarności, Warszawa, Poland, (52.24247519999999, 20.9956744, 0.0)),\n",
       " 'Warszawa,  Aleja Jana Pawła II': Location(Aleja Jana Pawła II, Warszawa, Poland, (52.2450237, 20.9910294, 0.0)),\n",
       " 'Warszawa,  Aleja Niepodległości': Location(aleja Niepodległości, Warszawa, Poland, (52.2012734, 21.0109725, 0.0)),\n",
       " 'Warszawa,  Aleje Jerozolimskie': Location(Aleje Jerozolimskie, Poland, (52.1947951, 20.9262445, 0.0)),\n",
       " 'Warszawa,  Aleje Ujazdowskie': Location(al. Ujazdowskie, Warszawa, Poland, (52.22035469999999, 21.0250007, 0.0)),\n",
       " 'Warszawa,  Aluzyjna': Location(Aluzyjna, Warszawa, Poland, (52.345869, 20.94347, 0.0)),\n",
       " 'Warszawa,  Angorska': Location(Angorska, Warszawa, Poland, (52.2383566, 21.0598726, 0.0)),\n",
       " 'Warszawa,  Anin': Location(Anin, 05-077 Warszawa, Poland, (52.22014009999999, 21.179012, 0.0)),\n",
       " 'Warszawa,  Annopol': Location(Annopol, Warszawa, Poland, (52.3065599, 21.0173728, 0.0)),\n",
       " 'Warszawa,  Artura Grottgera': Location(Grottgera, Warszawa, Poland, (52.2053681, 21.0301179, 0.0)),\n",
       " 'Warszawa,  Augustów': Location(03-287 Augustówek, Poland, (52.333333, 21.0666671, 0.0)),\n",
       " 'Warszawa,  Augustówek': Location(03-287 Augustówek, Poland, (52.333333, 21.0666671, 0.0)),\n",
       " 'Warszawa,  Augustówka': Location(Augustówka, 01-001 Warsaw, Poland, (52.1945528, 21.0930227, 0.0)),\n",
       " 'Warszawa,  Banderii': Location(Banderii, Warszawa, Poland, (52.2445976, 20.9639416, 0.0)),\n",
       " 'Warszawa,  Bemowo': Location(Bemowo, 01-001 Warsaw, Poland, (52.2409067, 20.9113297, 0.0)),\n",
       " 'Warszawa,  Berensona 110': Location(Leona Berensona 110, 03-287 Warszawa, Poland, (52.32412, 21.0795327, 0.0)),\n",
       " 'Warszawa,  Białołęka': Location(Białołęka, Warsaw, Poland, (52.32898789999999, 21.0076792, 0.0)),\n",
       " 'Warszawa,  Białołęka Dworska': Location(Białołęka Dworska, 05-077 Warszawa, Poland, (52.34171, 21.004561, 0.0)),\n",
       " 'Warszawa,  Bielany': Location(Bielany, Warsaw, Poland, (52.2933234, 20.928664, 0.0)),\n",
       " 'Warszawa,  Bobrowiecka': Location(Bobrowiecka, Warszawa, Poland, (52.1986108, 21.0464264, 0.0)),\n",
       " 'Warszawa,  Boernerowo': Location(Boernerowo, 05-075 Warsaw, Poland, (52.2623261, 20.9002346, 0.0)),\n",
       " 'Warszawa,  Bokserska': Location(Bokserska, Warszawa, Poland, (52.16945949999999, 20.9980613, 0.0)),\n",
       " 'Warszawa,  Borków': Location(Borków, Warszawa, Poland, (52.1906223, 21.150058, 0.0)),\n",
       " 'Warszawa,  Borowej Góry': Location(Borowej Góry, Warszawa, Poland, (52.2247244, 20.9138537, 0.0)),\n",
       " 'Warszawa,  Braci Wagów': Location(Braci Wagów, Warszawa, Poland, (52.1411764, 21.0511137, 0.0)),\n",
       " 'Warszawa,  Branickiego': Location(Adama Branickiego, Warszawa, Poland, (52.1572118, 21.0785942, 0.0)),\n",
       " 'Warszawa,  Bruzdowa': Location(Bruzdowa, Warszawa, Poland, (52.1616086, 21.1246899, 0.0)),\n",
       " 'Warszawa,  Brzeziny': Location(Brzeziny, 01-001 Warszawa, Poland, (52.3186546, 21.0387718, 0.0)),\n",
       " 'Warszawa,  Bródno': Location(Bródno, 05-077 Warsaw, Poland, (52.28673850000001, 21.0309044, 0.0)),\n",
       " 'Warszawa,  Bródno-Podgrodzie': Location(Bródno-Podgrodzie, 05-077 Warszawa, Poland, (52.297017, 21.0653261, 0.0)),\n",
       " 'Warszawa,  Bródnowska': Location(Bródnowska, Warszawa, Poland, (52.2641494, 21.0400169, 0.0)),\n",
       " 'Warszawa,  Buczynek': None,\n",
       " 'Warszawa,  Bukowińska': Location(Bukowińska, Warszawa, Poland, (52.1823249, 21.0258847, 0.0)),\n",
       " 'Warszawa,  Buraków': Location(Buraków, 05-092 Łomianki, Poland, (52.324442, 20.9151619, 0.0)),\n",
       " 'Warszawa,  Błonia Wilanowskie': Location(Błonia Wilanowskie, 01-001 Warszawa, Poland, (52.1530334, 21.0774265, 0.0)),\n",
       " 'Warszawa,  Celna': Location(Celna, Warszawa, Poland, (52.2498391, 21.0132936, 0.0)),\n",
       " 'Warszawa,  Centrum': Location(Marszałkowska 94, 00-510 Warszawa, Poland, (52.229439, 21.012688, 0.0)),\n",
       " 'Warszawa,  Ceramiczna': Location(Ceramiczna, Warszawa, Poland, (52.3216607, 20.9633741, 0.0)),\n",
       " 'Warszawa,  Chomiczówka': Location(Chomiczówka, 05-075 Warsaw, Poland, (52.27319860000001, 20.9240837, 0.0)),\n",
       " 'Warszawa,  Choszczówka': Location(05-077 Warsaw, Poland, (52.3577393, 20.9723433, 0.0)),\n",
       " 'Warszawa,  Chrzanów': Location(Chrzanów, 01-001 Warszawa, Poland, (52.2247144, 20.8858271, 0.0)),\n",
       " 'Warszawa,  Czapelska': Location(Czapelska, Warszawa, Poland, (52.2432023, 21.0870632, 0.0)),\n",
       " 'Warszawa,  Czechowice': Location(Czechowice, 02-495 Warszawa, Poland, (52.1865792, 20.881893, 0.0)),\n",
       " 'Warszawa,  Czerniakowska': Location(Czerniakowska, Warszawa, Poland, (52.20634880000001, 21.0488786, 0.0)),\n",
       " 'Warszawa,  Czerniaków': Location(Czerniaków, 05-077 Warsaw, Poland, (52.198518, 21.0568931, 0.0)),\n",
       " 'Warszawa,  Czyste': Location(Czyste, 05-077 Warsaw, Poland, (52.2265831, 20.9657368, 0.0)),\n",
       " 'Warszawa,  Deotymy': Location(Deotymy, Warszawa, Poland, (52.2429742, 20.9480706, 0.0)),\n",
       " 'Warszawa,  Dolny Mokotów': Location(Dolna 21B, 00-733 Warszawa, Poland, (52.20012389999999, 21.028986, 0.0)),\n",
       " 'Warszawa,  Dymińska': Location(Dymińska, Warszawa, Poland, (52.26111220000001, 20.9975701, 0.0)),\n",
       " 'Warszawa,  Dąbrówka Szlachecka': Location(Dąbrówka Szlachecka, 05-077 Warszawa, Poland, (52.3439349, 20.9625651, 0.0)),\n",
       " 'Warszawa,  Elektoralna': Location(Elektoralna, Warszawa, Poland, (52.2402148, 20.9975821, 0.0)),\n",
       " 'Warszawa,  Elsnerów': Location(Elsnerów, 01-001 Warszawa, Poland, (52.2753799, 21.0918537, 0.0)),\n",
       " 'Warszawa,  Emilii Plater': Location(Emilii Plater, Warszawa, Poland, (52.22902759999999, 21.0050621, 0.0)),\n",
       " 'Warszawa,  Esperanto': Location(Esperanto, Warszawa, Poland, (52.24582669999999, 20.9802094, 0.0)),\n",
       " 'Warszawa,  Eugeniusza Szwankowskiego': Location(Eugeniusza Szwankowskiego, Warszawa, Poland, (52.2337498, 20.8994021, 0.0)),\n",
       " 'Warszawa,  Fabryczna': Location(Fabryczna, Warszawa, Poland, (52.224486, 21.0383432, 0.0)),\n",
       " 'Warszawa,  Falenica': Location(14-100 Warsaw, Poland, (52.1620609, 21.2109312, 0.0)),\n",
       " 'Warszawa,  Filtry': Location(Filtry, 14-100 Warsaw, Poland, (52.2209353, 20.9961542, 0.0)),\n",
       " 'Warszawa,  Fort Bema': Location(Fort Bema, 05-075 Warszawa, Poland, (52.259274, 20.9392562, 0.0)),\n",
       " 'Warszawa,  Fort Bema w sąsiedztwie parku': Location(Fort Bema, 01-494 Warszawa, Poland, (52.2564788, 20.9385547, 0.0)),\n",
       " 'Warszawa,  Franciszka Klimczaka': Location(Franciszka Klimczaka, Warszawa, Poland, (52.1623348, 21.077747, 0.0)),\n",
       " 'Warszawa,  Fryderyka Joliot-Curie': Location(Fryderyka Joliot-Curie, Warszawa, Poland, (52.1924656, 21.0103884, 0.0)),\n",
       " 'Warszawa,  Generała Józefa Sowińskiego': Location(Redutowa 50, 01-131 Warszawa, Poland, (52.2348643, 20.9412005, 0.0)),\n",
       " 'Warszawa,  Gocław': Location(Gocław, 05-077 Warszawa, Poland, (52.2247096, 21.0952054, 0.0)),\n",
       " 'Warszawa,  Gocławek': Location(05-077 Warsaw, Poland, (52.2370331, 21.1357369, 0.0)),\n",
       " 'Warszawa,  Gorlicka': Location(Gorlicka, Warszawa, Poland, (52.1957793, 20.9769046, 0.0)),\n",
       " 'Warszawa,  Gołąbki': Location(02-496 Warsaw, Poland, (52.2084383, 20.8638305, 0.0)),\n",
       " 'Warszawa,  Grabów': Location(Grabów, 01-001 Warszawa, Poland, (52.1427403, 21.0060829, 0.0)),\n",
       " 'Warszawa,  Grochowska': Location(Grochowska, Warszawa, Poland, (52.2449097, 21.0887778, 0.0)),\n",
       " 'Warszawa,  Grochów': Location(05-077 Warsaw, Poland, (52.2408331, 21.0881476, 0.0)),\n",
       " 'Warszawa,  Grodzisk': Location(Grodzisk, 00-001 Warszawa, Poland, (52.3334906, 21.0637131, 0.0)),\n",
       " 'Warszawa,  Groszówka': Location(Groszowka, 05-077 Warszawa, Poland, (52.2299999, 21.23, 0.0)),\n",
       " 'Warszawa,  Groty': Location(Groty, 01-001 Warszawa, Poland, (52.2505877, 20.8735474, 0.0)),\n",
       " 'Warszawa,  Grzybowa': Location(Grzybowa, Warszawa, Poland, (52.2498044, 21.1759637, 0.0)),\n",
       " 'Warszawa,  Górce': Location(Górce, 01-001 Warszawa, Poland, (52.24269940000001, 20.9087233, 0.0)),\n",
       " 'Warszawa,  Górczewska': Location(Górczewska, Warszawa, Poland, (52.2401186, 20.9329673, 0.0)),\n",
       " 'Warszawa,  Górna Droga': Location(Górna Droga, Warszawa, Poland, (52.1845639, 20.8679734, 0.0)),\n",
       " 'Warszawa,  Górnośląska': Location(Górnośląska, Warszawa, Poland, (52.225072, 21.0353699, 0.0)),\n",
       " 'Warszawa,  Górny Mokotów': Location(Jaracza 3, 00-378 Warszawa, Poland, (52.23728140000001, 21.0324242, 0.0)),\n",
       " 'Warszawa,  Hallera': Location(plac Hallera, 03-464 Warszawa, Poland, (52.2605528, 21.0279172, 0.0)),\n",
       " 'Warszawa,  Henryka Brodatego': Location(Henryka Brodatego, Warszawa, Poland, (52.19905070000001, 20.856345, 0.0)),\n",
       " 'Warszawa,  Henryka Dobrzańskiego \"Hubala\"': Location(Trocka 4, 03-563 Warszawa, Poland, (52.274815, 21.0602349, 0.0)),\n",
       " 'Warszawa,  Henryków': Location(Henryków, 05-077 Warszawa, Poland, (52.3299889, 20.9777603, 0.0)),\n",
       " 'Warszawa,  Heroldów': Location(Heroldów, Warszawa, Poland, (52.3040703, 20.9304152, 0.0)),\n",
       " 'Warszawa,  Imielin': Location(Imielin, 05-077 Warszawa, Poland, (52.15, 21.01, 0.0)),\n",
       " 'Warszawa,  Irysowa': Location(Irysowa, Warszawa, Poland, (52.1754097, 21.0175659, 0.0)),\n",
       " 'Warszawa,  Jana III Sobieskiego': Location(Sobieskiego, Warszawa, Poland, (52.1860129, 21.05118, 0.0)),\n",
       " 'Warszawa,  Jana Nowaka-Jeziorańskiego': Location(Jana Nowaka-Jeziorańskiego, Warszawa, Poland, (52.2312337, 21.0925229, 0.0)),\n",
       " 'Warszawa,  Jana Pawła Woronicza': Location(Woronicza, Warszawa, Poland, (52.18898069999999, 21.006445, 0.0)),\n",
       " 'Warszawa,  Jana Zamoyskiego': Location(Zamoyskiego, Warszawa, Poland, (52.2476125, 21.0451127, 0.0)),\n",
       " 'Warszawa,  Jary': Location(Jara, Warszawa, Poland, (52.17504049999999, 21.1125742, 0.0)),\n",
       " 'Warszawa,  Jasiniec': Location(Jasiniec, Warszawa, Poland, (52.31327, 21.0761873, 0.0)),\n",
       " 'Warszawa,  Jelonki': Location(Jelonki Północne, 01-001 Warszawa, Poland, (52.235585, 20.9096456, 0.0)),\n",
       " 'Warszawa,  Jugosłowiańska': Location(Jugosłowiańska, Warszawa, Poland, (52.2211315, 21.0967724, 0.0)),\n",
       " 'Warszawa,  Józefa Lewartowskiego': Location(Lewartowskiego, Warszawa, Poland, (52.2504043, 20.9932141, 0.0)),\n",
       " 'Warszawa,  Kabaty': Location(Kabaty, 05-500 Warsaw, Poland, (52.1291577, 21.0715128, 0.0)),\n",
       " 'Warszawa,  Kameralna inwestycja': Location(Duracza 10, 01-892 Warszawa, Poland, (52.2716947, 20.9560483, 0.0)),\n",
       " 'Warszawa,  Kamionek': Location(Kamionek, 05-077 Warsaw, Poland, (52.2477493, 21.0611074, 0.0)),\n",
       " 'Warszawa,  Karmelicka': Location(Karmelicka, Warszawa, Poland, (52.2474791, 20.9922643, 0.0)),\n",
       " 'Warszawa,  Karola Dickensa': Location(Karola Dickensa, Warszawa, Poland, (52.2065041, 20.96977, 0.0)),\n",
       " 'Warszawa,  Karolówka': Location(Karolówka, Warszawa, Poland, (52.2672988, 21.1603816, 0.0)),\n",
       " 'Warszawa,  Kartograficzna': Location(Kartograficzna, Warszawa, Poland, (52.3127417, 21.0729413, 0.0)),\n",
       " 'Warszawa,  Kasprowicza': Location(Kasprowicza, Warszawa, Poland, (52.28472989999999, 20.9432291, 0.0)),\n",
       " 'Warszawa,  Kasprzaka': Location(Kasprzaka, Warszawa, Poland, (52.2279251, 20.9585114, 0.0)),\n",
       " 'Warszawa,  Kasztanowa': Location(Kasztanowa, Warszawa, Poland, (52.3081358, 20.9794703, 0.0)),\n",
       " 'Warszawa,  Kawęczyn': Location(Chełmżyńska 180, 04-464 Warszawa, Poland, (52.2671021, 21.1225541, 0.0)),\n",
       " 'Warszawa,  Kobiałka': Location(Kobiałka, Warszawa, Poland, (52.3557272, 21.0638916, 0.0)),\n",
       " 'Warszawa,  Kobielska': Location(Kobielska, Warszawa, Poland, (52.2474266, 21.081891, 0.0)),\n",
       " 'Warszawa,  Kolejowa': Location(Ulica Kolejowa, Warszawa, Poland, (52.22512829999999, 20.9782803, 0.0)),\n",
       " 'Warszawa,  Kolonia Staszica': Location(Filtrowa 30, 02-032 Warszawa, Poland, (52.2189405, 21.002593, 0.0)),\n",
       " 'Warszawa,  Komorska': Location(Komorska, Warszawa, Poland, (52.2385053, 21.1016876, 0.0)),\n",
       " 'Warszawa,  Konińska': Location(Konińska, Warszawa, Poland, (52.1945272, 20.8944098, 0.0)),\n",
       " 'Warszawa,  Konopacka': Location(Konopacka, Warszawa, Poland, (52.2594326, 21.0388501, 0.0)),\n",
       " 'Warszawa,  Konstruktorska': Location(Konstruktorska, Warszawa, Poland, (52.1855194, 20.9951574, 0.0)),\n",
       " 'Warszawa,  Kowieńska': Location(Kowieńska, Warszawa, Poland, (52.2628553, 21.0398899, 0.0)),\n",
       " 'Warszawa,  Kozia Górka': Location(Kozia Górka, Warszawa, Poland, (52.2563353, 21.0948001, 0.0)),\n",
       " 'Warszawa,  Koło': Location(Koło, 05-077 Warszawa, Poland, (52.2467604, 20.9468105, 0.0)),\n",
       " 'Warszawa,  Krasnowola': None,\n",
       " 'Warszawa,  Królikarnia': Location(Puławska 113A, 02-707 Warszawa, Poland, (52.1890908, 21.0284115, 0.0)),\n",
       " 'Warszawa,  Krępowieckiego': Location(Krępowieckiego, Warszawa, Poland, (52.2370724, 20.9346659, 0.0)),\n",
       " 'Warszawa,  Ksawerów': Location(Ksawerów, 02-001 Warsaw, Poland, (52.1834107, 21.0187267, 0.0)),\n",
       " 'Warszawa,  Kąty Grodziskie': Location(Kąty Grodziskie, Warszawa, Poland, (52.3326536, 21.055613, 0.0)),\n",
       " 'Warszawa,  Kępa Gocławska': Location(05-077 Warsaw, Poland, (52.2272038, 21.0681882, 0.0)),\n",
       " 'Warszawa,  Kępa Potocka': Location(Park Kępa Potocka, Gwiaździsta, 05-077 Warszawa, Poland, (52.288353, 20.9791887, 0.0)),\n",
       " 'Warszawa,  Kępa Tarchomińska': Location(Kępa Tarchomińska, Warszawa, Poland, (52.3502881, 20.9251967, 0.0)),\n",
       " 'Warszawa,  Kępa Zawadowska': Location(Kępa Zawadowska, 01-001 Warszawa, Poland, (52.1496316, 21.1401462, 0.0)),\n",
       " 'Warszawa,  Kłobucka': Location(Kłobucka, Warszawa, Poland, (52.1630065, 20.9922804, 0.0)),\n",
       " 'Warszawa,  Kłobucka 23e': Location(Kłobucka 23E, 02-699 Warszawa, Poland, (52.16886299999999, 20.9934539, 0.0)),\n",
       " 'Warszawa,  Lajosa Kossutha': Location(Kossutha, Warszawa, Poland, (52.2382235, 20.9085601, 0.0)),\n",
       " 'Warszawa,  Las': Location(Las, 01-001 Warsaw, Poland, (52.2156071, 21.11417, 0.0)),\n",
       " 'Warszawa,  Latawiec': Location(aleja Armii Ludowej 12, 14-100 Warszawa, Poland, (52.217848, 21.0177684, 0.0)),\n",
       " 'Warszawa,  Leopolda Staffa': Location(Staffa, Warszawa, Poland, (52.2745611, 20.9546782, 0.0)),\n",
       " 'Warszawa,  Leszno': Location(Leszno, Warszawa, Poland, (52.2380808, 20.9785451, 0.0)),\n",
       " 'Warszawa,  Lewandów': Location(Lewandów, Warszawa, Poland, (52.3222525, 21.0741663, 0.0)),\n",
       " 'Warszawa,  Lewinów': Location(05-077 Warsaw, Poland, (52.2839525, 21.0785058, 0.0)),\n",
       " 'Warszawa,  Ludna': Location(Ludna, Warszawa, Poland, (52.2316687, 21.036122, 0.0)),\n",
       " 'Warszawa,  Ludwinów': Location(05-500 Warsaw, Poland, (52.1326467, 21.0031102, 0.0)),\n",
       " 'Warszawa,  Lwowska': Location(Lwowska, Warszawa, Poland, (52.2215907, 21.0124662, 0.0)),\n",
       " 'Warszawa,  MARKOWSKA': Location(Markowska, Warszawa, Poland, (52.2536597, 21.0443488, 0.0)),\n",
       " 'Warszawa,  Majewskiego': Location(Walentego Majewskiego Skorochód, Warszawa, Poland, (52.2053853, 20.9734407, 0.0)),\n",
       " 'Warszawa,  Marcina Kasprzaka': Location(Kasprzaka, Warszawa, Poland, (52.2279251, 20.9585114, 0.0)),\n",
       " 'Warszawa,  Mariensztat': Location(Mariensztat, Warszawa, Poland, (52.2461063, 21.0166594, 0.0)),\n",
       " 'Warszawa,  Marii Grzegorzewskiej': Location(Marii Grzegorzewskiej, Warszawa, Poland, (52.1504165, 21.0556819, 0.0)),\n",
       " 'Warszawa,  Marymont': Location(Marymont, 05-077 Warszawa, Poland, (52.26, 20.95, 0.0)),\n",
       " 'Warszawa,  Marysin Wawerski': Location(Begonii 9, 04-550 Warszawa, Poland, (52.2399444, 21.1472254, 0.0)),\n",
       " 'Warszawa,  Mazowiecka (1)': Location(Mazowiecka 1, Warszawa, Poland, (52.2254137, 21.2282588, 0.0)),\n",
       " 'Warszawa,  Małego Franka': Location(Małego Franka, Warszawa, Poland, (52.2407504, 20.9438058, 0.0)),\n",
       " 'Warszawa,  Małej Łąki': Location(Małej Łąki, Warszawa, Poland, (52.1364151, 21.0536397, 0.0)),\n",
       " 'Warszawa,  Mańki-Wojdy': Location(05-077 Warsaw, Poland, (52.34413619999999, 21.0438891, 0.0)),\n",
       " 'Warszawa,  Metro Wilanowska': Location(Puławska, 05-077 Warszawa, Poland, (52.181508, 21.0227667, 0.0)),\n",
       " 'Warszawa,  Miedzeszyn': Location(Patriotów, 05-077 Warszawa, Poland, (52.1731043, 21.1997509, 0.0)),\n",
       " 'Warszawa,  Mikołaja Trąby': Location(Mikołaja Trąby, Warszawa, Poland, (52.3448225, 20.941277, 0.0)),\n",
       " 'Warszawa,  Mirów': Location(Mirów, 14-100 Warsaw, Poland, (52.234305, 20.9914811, 0.0)),\n",
       " 'Warszawa,  Miączyńska': Location(Miączyńska, Warszawa, Poland, (52.1923784, 20.9961108, 0.0)),\n",
       " 'Warszawa,  Międzylesie': Location(Międzylesie, 01-001 Warszawa, Poland, (52.2093198, 21.1922283, 0.0)),\n",
       " 'Warszawa,  Moczydło': Location(Górczewska 69/73, 01-401 Warszawa, Poland, (52.2365241, 20.9533526, 0.0)),\n",
       " 'Warszawa,  Moderna': Location(Głębocka 2, 03-287 Warszawa, Poland, (52.298897, 21.0566691, 0.0)),\n",
       " 'Warszawa,  Mokotów': Location(Mokotów, 01-001 Warsaw, Poland, (52.194157, 21.0346955, 0.0)),\n",
       " 'Warszawa,  Monte Cassino': Location(Monte Cassino, Warszawa, Poland, (52.2362285, 20.9458066, 0.0)),\n",
       " 'Warszawa,  Mordechaja Anielewicza': Location(Anielewicza, Warszawa, Poland, (52.2466668, 20.9865335, 0.0)),\n",
       " 'Warszawa,  Mordechaja Anielewicza (Wola)': Location(Anielewicza, Warszawa, Poland, (52.2452104, 20.9816122, 0.0)),\n",
       " 'Warszawa,  Muranów': Location(Muranów, 05-077 Warszawa, Poland, (52.2502507, 20.9953916, 0.0)),\n",
       " 'Warszawa,  Młociny': Location(Młociny, Warszawa, Poland, (52.31279079999999, 20.9204418, 0.0)),\n",
       " 'Warszawa,  Młynów': Location(Młynów, 05-077 Warszawa, Poland, (52.2376832, 20.9657996, 0.0)),\n",
       " 'Warszawa,  NOWE MIESZKANIA - WOLA': Location(Przyokopowa 33, 01-208 Warszawa, Poland, (52.231613, 20.979719, 0.0)),\n",
       " 'Warszawa,  NOWE MIESZKANIA BEZPOŚREDNIO OD DEWELOPERA': Location(Adama Branickiego 15, 02-797 Warszawa, Poland, (52.1553949, 21.0745361, 0.0)),\n",
       " 'Warszawa,  NOWE MIESZKANIA BEZPOŚREDNIO OD DEWLOPERA': Location(Świętokrzyska 30, 00-116 Warszawa, Poland, (52.2350158, 21.0059342, 0.0)),\n",
       " 'Warszawa,  NOWE MIESZKANIA OD 5000 PLN ZA M2 BEZPOŚREDNIO': Location(Świętokrzyska 30, 00-116 Warszawa, Poland, (52.2350158, 21.0059342, 0.0)),\n",
       " 'Warszawa,  NOWE MIESZKANIA WOLA': Location(Przyokopowa 33, 01-208 Warszawa, Poland, (52.231613, 20.979719, 0.0)),\n",
       " 'Warszawa,  Na Skraju': Location(Na Skraju, Warszawa, Poland, (52.158845, 20.9422367, 0.0)),\n",
       " 'Warszawa,  Natolin': Location(Natolin, 02-001 Warszawa, Poland, (52.1382389, 21.0525916, 0.0)),\n",
       " 'Warszawa,  Natolińska': Location(Natolińska, Warszawa, Poland, (52.2207166, 21.020041, 0.0)),\n",
       " 'Warszawa,  Naukowa': Location(Naukowa, Warszawa, Poland, (52.2056642, 20.9330342, 0.0)),\n",
       " 'Warszawa,  Niedźwiadek': Location(Niedźwiadek, 01-001 Warszawa, Poland, (52.19336939999999, 20.8676674, 0.0)),\n",
       " 'Warszawa,  Nowa Praga': Location(Nowa Praga, 05-077 Warszawa, Poland, (52.2596806, 21.0268944, 0.0)),\n",
       " 'Warszawa,  Nowe Bródno': Location(05-077 Warsaw, Poland, (52.2848756, 21.0235969, 0.0)),\n",
       " 'Warszawa,  Nowe Górce': Location(Puławska 39, 02-508 Warszawa, Poland, (52.2073309, 21.0225809, 0.0)),\n",
       " 'Warszawa,  Nowe Miasto': Location(Warsaw New Town, 05-077 Warsaw, Poland, (52.256103, 21.0087659, 0.0)),\n",
       " 'Warszawa,  Nowe Włochy': Location(Nowe Włochy, 01-001 Warszawa, Poland, (52.2094007, 20.9085866, 0.0)),\n",
       " 'Warszawa,  Nowodwory': Location(Nowodwory, Warszawa, Poland, (52.3339221, 20.941519, 0.0)),\n",
       " 'Warszawa,  Nowolipki': Location(Nowolipki, 05-077 Warszawa, Poland, (52.2443969, 20.9820228, 0.0)),\n",
       " 'Warszawa,  Nowosielecka': Location(Nowosielecka, Warszawa, Poland, (52.2111617, 21.047332, 0.0)),\n",
       " 'Warszawa,  Nowoursynowska': Location(Nowoursynowska, Warszawa, Poland, (52.1560638, 21.0545345, 0.0)),\n",
       " 'Warszawa,  Nowy Rembertów': Location(05-077 Warsaw, Poland, (52.2512659, 21.1611692, 0.0)),\n",
       " 'Warszawa,  Obozowa': Location(Obozowa, Warszawa, Poland, (52.24726930000001, 20.9545332, 0.0)),\n",
       " 'Warszawa,  Obrońców Tobruku': Location(Obrońców Tobruku, Warszawa, Poland, (52.2591528, 20.9362529, 0.0)),\n",
       " 'Warszawa,  Ochota': Location(Ochota, 01-001 Warsaw, Poland, (52.2103359, 20.9712206, 0.0)),\n",
       " 'Warszawa,  Odolany': Location(Odolany, 05-077 Warszawa, Poland, (52.2197139, 20.9428669, 0.0)),\n",
       " 'Warszawa,  Ogińskiego': Location(Michała Ogińskiego, Warszawa, Poland, (52.28748059999999, 21.0246299, 0.0)),\n",
       " 'Warszawa,  Okęcie': Location(Warsaw Chopin Airport, Żwirki i Wigury 1, 01-001 Warszawa, Poland, (52.1672369, 20.9678911, 0.0)),\n",
       " 'Warszawa,  Olesin': Location(Olesin, Warszawa, Poland, (52.3534868, 21.0665494, 0.0)),\n",
       " 'Warszawa,  Olszynka Grochowska': Location(05-077 Warsaw, Poland, (52.24980249999999, 21.1068982, 0.0)),\n",
       " 'Warszawa,  Os. Ostrobramska': Location(Ostrobramska, Warszawa, Poland, (52.2340627, 21.102957, 0.0)),\n",
       " 'Warszawa,  Os. Saska': Location(Saska, Warszawa, Poland, (52.2321592, 21.0609074, 0.0)),\n",
       " 'Warszawa,  Oskara Langego': Location(Oskara Langego, Warszawa, Poland, (52.18128189999999, 21.0088988, 0.0)),\n",
       " 'Warszawa,  Osmańczyka 10': Location(Osmańczyka 10, Warszawa, Poland, (52.2587313, 20.9312886, 0.0)),\n",
       " 'Warszawa,  Osowska': Location(Osowska, Warszawa, Poland, (52.2451748, 21.103068, 0.0)),\n",
       " 'Warszawa,  Ostrobramska': Location(Ostrobramska, Warszawa, Poland, (52.2340627, 21.102957, 0.0)),\n",
       " 'Warszawa,  Ostródzka': Location(Ostródzka, Warszawa, Poland, (52.3242539, 21.0483317, 0.0)),\n",
       " 'Warszawa,  Paryska': Location(Paryska, Warszawa, Poland, (52.2284407, 21.0580195, 0.0)),\n",
       " 'Warszawa,  Pelcowizna': Location(Pelcowizna, 05-077 Warszawa, Poland, (52.2736184, 21.0117435, 0.0)),\n",
       " 'Warszawa,  Piano House': Location(Topiel 11, 00-342 Warszawa, Poland, (52.2384046, 21.0249128, 0.0)),\n",
       " 'Warszawa,  Piaski': Location(Piaski, 05-075 Warsaw, Poland, (52.2681103, 20.9440613, 0.0)),\n",
       " 'Warszawa,  Piekiełko': Location(05-077 Warsaw, Poland, (52.3092525, 20.9728597, 0.0)),\n",
       " 'Warszawa,  Pilarzy': Location(Pilarzy, Warszawa, Poland, (52.2657835, 21.1573659, 0.0)),\n",
       " 'Warszawa,  Plac Konstytucji': Location(plac Konstytucji, Warszawa, Poland, (52.2221486, 21.0166993, 0.0)),\n",
       " 'Warszawa,  Plac Unii Lubelskiej': Location(plac Unii Lubelskiej, Warszawa, Poland, (52.2133862, 21.0214835, 0.0)),\n",
       " 'Warszawa,  Plac Wojska Polskiego': Location(plac Wojska Polskiego, Warszawa, Poland, (52.2561799, 21.2285889, 0.0)),\n",
       " 'Warszawa,  Podłużna': Location(Podłużna, Warszawa, Poland, (52.3197049, 21.0740099, 0.0)),\n",
       " 'Warszawa,  Pola Mokotowskie': Location(Mokotowskie Field, aleja Niepodległości, 14-100 Warszawa, Poland, (52.2106505, 20.9984688, 0.0)),\n",
       " 'Warszawa,  Pole Mokotowskie': Location(Mokotowskie Field, aleja Niepodległości, 14-100 Warszawa, Poland, (52.2106505, 20.9984688, 0.0)),\n",
       " 'Warszawa,  Pole Mokotowskie / Łazienki': Location(Mokotowskie Field, aleja Niepodległości, 14-100 Warszawa, Poland, (52.2106505, 20.9984688, 0.0)),\n",
       " 'Warszawa,  Politechnika': Location(plac Politechniki 1, 00-661 Warszawa, Poland, (52.2212012, 21.0080857, 0.0)),\n",
       " 'Warszawa,  Polna': Location(Polna, Warszawa, Poland, (52.2168587, 21.0167726, 0.0)),\n",
       " 'Warszawa,  Port Praski': Location(Krowia 6, 03-711 Warszawa, Poland, (52.2489843, 21.0320887, 0.0)),\n",
       " 'Warszawa,  Potok': Location(Ikara 6, 02-705 Warszawa, Poland, (52.18610839999999, 21.0275199, 0.0)),\n",
       " 'Warszawa,  Powiśle': Location(Kruczkowskiego 3B, 00-380 Warszawa, Poland, (52.2340799, 21.0298834, 0.0)),\n",
       " 'Warszawa,  Powsin': Location(Powsin, 00-001 Warsaw, Poland, (52.12519289999999, 21.1075765, 0.0)),\n",
       " 'Warszawa,  Powsinek': Location(Powsinek, 01-001 Warszawa, Poland, (52.1504845, 21.1059228, 0.0)),\n",
       " 'Warszawa,  Powązki': Location(Powązkowska 14, 01-797 Warszawa, Poland, (52.2530923, 20.9714896, 0.0)),\n",
       " 'Warszawa,  Praga': Location(Praga, 05-077 Warsaw, Poland, (52.2471608, 21.0344245, 0.0)),\n",
       " 'Warszawa,  Praga-Południe': Location(Praga Południe, 05-077 Warsaw, Poland, (52.2416808, 21.0840602, 0.0)),\n",
       " 'Warszawa,  Praga-Północ': Location(Praga Północ, 05-077 Warsaw, Poland, (52.26330050000001, 21.0283169, 0.0)),\n",
       " 'Warszawa,  Prymasa Tysiąclecia': Location(Aleja Prymasa Tysiąclecia, Warszawa, Poland, (52.2389114, 20.9561244, 0.0)),\n",
       " 'Warszawa,  Przyczółek Grochowski': Location(Ostrzycka 2/4, 04-035 Warszawa, Poland, (52.2346242, 21.079144, 0.0)),\n",
       " 'Warszawa,  Przytyk': Location(Przytyk, Warszawa, Poland, (52.2884538, 20.937404, 0.0)),\n",
       " 'Warszawa,  Pustułeczki': Location(Pustułeczki, Warszawa, Poland, (52.1441415, 21.0250425, 0.0)),\n",
       " 'Warszawa,  Puławska': Location(Puławska, Warszawa, Poland, (52.157626, 21.0173218, 0.0)),\n",
       " 'Warszawa,  Puławska 233': Location(Puławska 233, Warszawa, Poland, (52.17543089999999, 21.0211772, 0.0)),\n",
       " 'Warszawa,  Pyry': Location(Pyry, 05-500 Warsaw, Poland, (52.1295387, 21.0173834, 0.0)),\n",
       " 'Warszawa,  Płochocińska': Location(Płochocińska, Warszawa, Poland, (52.3365764, 21.0293071, 0.0)),\n",
       " 'Warszawa,  Płocka': Location(Płocka, Warszawa, Poland, (52.2361739, 20.9652488, 0.0)),\n",
       " 'Warszawa,  Płomyka': Location(Płomyka, Warszawa, Poland, (52.2006905, 20.9198405, 0.0)),\n",
       " 'Warszawa,  Płowiecka': Location(Płowiecka, Warszawa, Poland, (52.2305208, 21.135748, 0.0)),\n",
       " 'Warszawa,  Płudy': Location(05-077 Warsaw, Poland, (52.3347737, 20.9856596, 0.0)),\n",
       " 'Warszawa,  Racławicka': Location(Racławicka, Warszawa, Poland, (52.19653750000001, 20.9946581, 0.0)),\n",
       " 'Warszawa,  Radiowo': Location(Radiowo, Warszawa, Poland, (52.2836803, 20.8974571, 0.0)),\n",
       " 'Warszawa,  Radość': Location(Radość, 01-001 Warszawa, Poland, (52.1871349, 21.1919633, 0.0)),\n",
       " 'Warszawa,  Rakietników': Location(Rakietników, Warszawa, Poland, (52.1946166, 20.8901623, 0.0)),\n",
       " 'Warszawa,  Rakowiec': Location(02-256 Warsaw, Poland, (52.19695, 20.9658997, 0.0)),\n",
       " 'Warszawa,  Raków': Location(Raków, 02-001 Warszawa, Poland, (52.1961127, 20.9503516, 0.0)),\n",
       " 'Warszawa,  Redutowa': Location(Redutowa, Warszawa, Poland, (52.2307504, 20.9420122, 0.0)),\n",
       " 'Warszawa,  Rembertów': Location(Rembertów, 01-001 Warsaw, Poland, (52.2630714, 21.145839, 0.0)),\n",
       " 'Warszawa,  Rozłucka': Location(Rozłucka, Warszawa, Poland, (52.238622, 21.077391, 0.0)),\n",
       " 'Warszawa,  Ruda': Location(Marymont-Ruda, 05-077 Warsaw, Poland, (52.2863963, 20.9803688, 0.0)),\n",
       " 'Warszawa,  Rumiankowa': Location(Rumiankowa, Warszawa, Poland, (52.21683520000001, 21.2482368, 0.0)),\n",
       " 'Warszawa,  Sadul': Location(Sadul, 01-001 Warszawa, Poland, (52.2100538, 21.1512644, 0.0)),\n",
       " 'Warszawa,  Sady Żoliborskie': Location(Sady Żoliborskie, 05-077 Warszawa, Poland, (52.2598891, 20.9659241, 0.0)),\n",
       " 'Warszawa,  Sadyba': Location(Sadyba, 05-077 Warsaw, Poland, (52.186008, 21.0644001, 0.0)),\n",
       " 'Warszawa,  Salomea': Location(Salomea, 05-077 Warszawa, Poland, (52.1892424, 20.927506, 0.0)),\n",
       " 'Warszawa,  Sarmacka': Location(Sarmacka, Warszawa, Poland, (52.16082369999999, 21.0780113, 0.0)),\n",
       " 'Warszawa,  Saska Kępa': Location(Saska Kępa, 05-077 Warsaw, Poland, (52.2303891, 21.0647741, 0.0)),\n",
       " 'Warszawa,  Siekierki': Location(Siekierki, 05-077 Warsaw, Poland, (52.2116146, 21.0760411, 0.0)),\n",
       " 'Warszawa,  Sielce': Location(Sielce, 05-077 Warsaw, Poland, (52.2013515, 21.0416907, 0.0)),\n",
       " 'Warszawa,  Sienna': Location(Sienna, Warszawa, Poland, (52.2308245, 20.9964303, 0.0)),\n",
       " 'Warszawa,  Skarbka z Gór': Location(Skarbka z Gór, Warszawa, Poland, (52.316954, 21.0592891, 0.0)),\n",
       " 'Warszawa,  Skierniewicka': Location(Skierniewicka, Warszawa, Poland, (52.2312066, 20.969002, 0.0)),\n",
       " 'Warszawa,  Skorosze': Location(Skorosze, 05-077 Warszawa, Poland, (52.188616, 20.9008991, 0.0)),\n",
       " 'Warszawa,  Skoroszewska': Location(Skoroszewska, Warszawa, Poland, (52.1897496, 20.899275, 0.0)),\n",
       " 'Warszawa,  Skrzypki': Location(04-998 Warsaw, Poland, (52.16017189999999, 21.1612084, 0.0)),\n",
       " 'Warszawa,  Smocza': Location(Smocza, Warszawa, Poland, (52.2461207, 20.9852755, 0.0)),\n",
       " 'Warszawa,  Smolna': Location(Smolna, Warszawa, Poland, (52.23301490000001, 21.0238717, 0.0)),\n",
       " 'Warszawa,  Sokratesa': Location(Sokratesa, Warszawa, Poland, (52.2849082, 20.9287625, 0.0)),\n",
       " 'Warszawa,  Solec': Location(Solec, 05-077 Warszawa, Poland, (52.2298015, 21.038103, 0.0)),\n",
       " 'Warszawa,  Stara Miłosna': Location(Wesoła, 01-001 Warsaw, Poland, (52.2329397, 21.2251979, 0.0)),\n",
       " 'Warszawa,  Stara Ochota': Location(Stara Ochota, 05-077 Warszawa, Poland, (52.21735340000001, 20.9780521, 0.0)),\n",
       " 'Warszawa,  Stara Praga': Location(Praga, 05-077 Warsaw, Poland, (52.2471608, 21.0344245, 0.0)),\n",
       " 'Warszawa,  Stare Bielany': Location(Stare Bielany, 05-075 Warszawa, Poland, (52.2800772, 20.9469788, 0.0)),\n",
       " 'Warszawa,  Stare Miasto': Location(Warsaw Old Town, 05-077 Warsaw, Poland, (52.2477331, 21.0136079, 0.0)),\n",
       " 'Warszawa,  Stare Włochy': Location(Stare Włochy, 05-077 Warszawa, Poland, (52.2017434, 20.9199606, 0.0)),\n",
       " 'Warszawa,  Stary Imielin': Location(Stary Imielin, 02-001 Warszawa, Poland, (52.1447513, 21.0250941, 0.0)),\n",
       " 'Warszawa,  Stary Rembertów': Location(Aleja Generała Antoniego Chruściela „Montera” 22, 04-463 Warszawa, Poland, (52.2586397, 21.1613473, 0.0)),\n",
       " 'Warszawa,  Stary Żoliborz': Location(Stary Żoliborz, 05-077 Warszawa, Poland, (52.2667563, 20.9888274, 0.0)),\n",
       " 'Warszawa,  Starówka': Location(Warsaw Old Town, 05-077 Warsaw, Poland, (52.2477331, 21.0136079, 0.0)),\n",
       " 'Warszawa,  Staszica': Location(Staszica, Warszawa, Poland, (52.2359528, 20.9710896, 0.0)),\n",
       " 'Warszawa,  Stawki': Location(Stawki, Warszawa, Poland, (52.252105, 20.9889541, 0.0)),\n",
       " 'Warszawa,  Stefana Okrzei': Location(Stefana Okrzei, Warszawa, Poland, (52.2502007, 21.0331015, 0.0)),\n",
       " 'Warszawa,  Stegny': Location(Stegny, 05-077 Warsaw, Poland, (52.1777508, 21.0491132, 0.0)),\n",
       " 'Warszawa,  Stokłosy': Location(Stokłosy, 05-077 Warszawa, Poland, (52.1599666, 21.0328111, 0.0)),\n",
       " 'Warszawa,  Stryjeńskich': Location(Stryjeńskich, Warszawa, Poland, (52.1365857, 21.0502547, 0.0)),\n",
       " 'Warszawa,  Syta': Location(Syta, Warszawa, Poland, (52.1688552, 21.1070882, 0.0)),\n",
       " 'Warszawa,  Szamocka': Location(Szamocka, Warszawa, Poland, (52.25727810000001, 20.9588545, 0.0)),\n",
       " 'Warszawa,  Szaserów': Location(Szaserów, Warszawa, Poland, (52.247068, 21.1016718, 0.0)),\n",
       " 'Warszawa,  Szczęśliwice': Location(Szczęśliwice, 01-001 Warszawa, Poland, (52.2075149, 20.963726, 0.0)),\n",
       " 'Warszawa,  Szeligowska': Location(Szeligowska, Warszawa, Poland, (52.2244052, 20.892693, 0.0)),\n",
       " 'Warszawa,  Szlachecka': Location(Szlachecka, Warszawa, Poland, (52.3128111, 21.023207, 0.0)),\n",
       " 'Warszawa,  Szmulki': Location(Szmulowizna, 05-077 Warszawa, Poland, (52.25870579999999, 21.0545249, 0.0)),\n",
       " 'Warszawa,  Szmulowizna': Location(Szmulowizna, 05-077 Warszawa, Poland, (52.25870579999999, 21.0545249, 0.0)),\n",
       " 'Warszawa,  Sztabowa': Location(Sztabowa, Warszawa, Poland, (52.2421663, 21.1174335, 0.0)),\n",
       " 'Warszawa,  Szyprów': Location(Szyprów, Warszawa, Poland, (52.1924459, 20.9868864, 0.0)),\n",
       " 'Warszawa,  Słodowiec': Location(Słodowiec, 05-077 Warszawa, Poland, (52.2724066, 20.9583719, 0.0)),\n",
       " 'Warszawa,  Służew': Location(Służew, 05-077 Warsaw, Poland, (52.17232019999999, 21.0186461, 0.0)),\n",
       " 'Warszawa,  Służewiec': Location(02-677 Warsaw, Poland, (52.1802867, 20.9870054, 0.0)),\n",
       " 'Warszawa,  Tarchomin': Location(Tarchomin, 05-077 Warszawa, Poland, (52.3168496, 20.9586064, 0.0)),\n",
       " 'Warszawa,  Targowa': Location(Targowa, Warszawa, Poland, (52.2518199, 21.0384614, 0.0)),\n",
       " 'Warszawa,  Targówek': Location(Targówek, 01-001 Warsaw, Poland, (52.2823819, 21.0653678, 0.0)),\n",
       " 'Warszawa,  Targówek Fabryczny': Location(Targówek Fabryczny, 01-001 Warszawa, Poland, (52.2671168, 21.0765217, 0.0)),\n",
       " 'Warszawa,  Targówek Mieszkaniowy': Location(Targówek Mieszkaniowy, 05-077 Warszawa, Poland, (52.2713763, 21.0536728, 0.0)),\n",
       " 'Warszawa,  Toruńska 74': Location(Toruńska 74, Warszawa, Poland, (52.2966549, 21.0256179, 0.0)),\n",
       " 'Warszawa,  Trakt Królewski': Location(Świętojańska 17, 05-077 Warszawa, Poland, (52.2485655, 21.0129863, 0.0)),\n",
       " 'Warszawa,  Turmoncka': Location(Turmoncka, Warszawa, Poland, (52.29785140000001, 21.0352534, 0.0)),\n",
       " 'Warszawa,  Twarda': Location(Twarda, Warszawa, Poland, (52.2318022, 20.9961002, 0.0)),\n",
       " 'Warszawa,  Ujazdów': Location(Ujazdów, 05-077 Warszawa, Poland, (52.21870329999999, 21.038018, 0.0)),\n",
       " 'Warszawa,  Ul. Pańska': Location(Pańska, Warszawa, Poland, (52.2317738, 20.9944132, 0.0)),\n",
       " 'Warszawa,  Ulrychów': Location(Ulrychów, 05-077 Warszawa, Poland, (52.2322219, 20.935318, 0.0)),\n",
       " 'Warszawa,  Ursus': Location(Ursus, 01-001 Warsaw, Poland, (52.1951226, 20.8837885, 0.0)),\n",
       " 'Warszawa,  Ursynów': Location(Ursynów, Warsaw, Poland, (52.13785439999999, 21.0291229, 0.0)),\n",
       " 'Warszawa,  Warszawa': Location(Warsaw, Poland, (52.2296756, 21.0122287, 0.0)),\n",
       " 'Warszawa,  Wawer': Location(Wawer, 00-001 Warsaw, Poland, (52.1962166, 21.1782252, 0.0)),\n",
       " 'Warszawa,  Wawrzyszew': Location(Wawrzyszew, 05-075 Warszawa, Poland, (52.2828976, 20.9317479, 0.0)),\n",
       " 'Warszawa,  Wawrzyszewska': Location(Wawrzyszewska, Warszawa, Poland, (52.247393, 20.9635321, 0.0)),\n",
       " 'Warszawa,  Wedel': Location(Szpitalna 8, 00-031 Warszawa, Poland, (52.2334086, 21.0147613, 0.0)),\n",
       " 'Warszawa,  Wesoła': Location(Wesoła, 01-001 Warsaw, Poland, (52.2329397, 21.2251979, 0.0)),\n",
       " 'Warszawa,  Wiejska': Location(Wiejska, Warszawa, Poland, (52.2257689, 21.0260328, 0.0)),\n",
       " 'Warszawa,  Wierzbno': Location(Wierzbno, 02-001 Warsaw, Poland, (52.19450310000001, 21.0188067, 0.0)),\n",
       " 'Warszawa,  Wilanów': Location(Wilanów, 00-001 Warsaw, Poland, (52.1561298, 21.1116284, 0.0)),\n",
       " 'Warszawa,  Wilcza': Location(Wilcza, Warszawa, Poland, (52.2247175, 21.0149539, 0.0)),\n",
       " 'Warszawa,  Winnica': Location(05-077 Warsaw, Poland, (52.3387134, 20.9453808, 0.0)),\n",
       " 'Warszawa,  Witolin': Location(Natolin, 02-001 Warszawa, Poland, (52.1382389, 21.0525916, 0.0)),\n",
       " 'Warszawa,  Wojciecha Bogusławskiego': Location(Bogusławskiego, Warszawa, Poland, (52.2779586, 20.9180167, 0.0)),\n",
       " 'Warszawa,  Wojciecha Żywnego': Location(Wojciecha Żywnego, Warszawa, Poland, (52.1921948, 21.0257481, 0.0)),\n",
       " 'Warszawa,  Wola': Location(Wola, 05-077 Warsaw, Poland, (52.2333751, 20.9571835, 0.0)),\n",
       " 'Warszawa,  Wola Grzybowska': Location(05-075, Warszawa, Poland, (52.2526978, 21.2518364, 0.0)),\n",
       " 'Warszawa,  Wolfkego': Location(Wolfkego, Warszawa, Poland, (52.25638499999999, 20.9261399, 0.0)),\n",
       " 'Warszawa,  Wrzeciono': Location(Wrzeciono, 01-001 Warszawa, Poland, (52.2925973, 20.9394165, 0.0)),\n",
       " 'Warszawa,  Wyczółki': Location(Wyczółki, 01-001 Warszawa, Poland, (52.15438109999999, 20.9957146, 0.0)),\n",
       " 'Warszawa,  Wyględów': Location(Wyględów, 02-001 Warsaw, Poland, (52.1939022, 20.9921732, 0.0)),\n",
       " 'Warszawa,  Wygoda': Location(Wygoda, Warszawa, Poland, (52.2019118, 21.0254673, 0.0)),\n",
       " 'Warszawa,  Wyspowa': Location(Wyspowa, Warszawa, Poland, (52.28859, 21.0831137, 0.0)),\n",
       " 'Warszawa,  Wólczyńska': Location(Wólczyńska, Warszawa, Poland, (52.2863152, 20.9097183, 0.0)),\n",
       " 'Warszawa,  Wąwozowa': Location(Wąwozowa, Warszawa, Poland, (52.1312777, 21.065737, 0.0)),\n",
       " 'Warszawa,  Władysława Broniewskiego': Location(Broniewskiego, Warszawa, Poland, (52.26819099999999, 20.9585716, 0.0)),\n",
       " 'Warszawa,  Władysława Korotyńskiego': Location(Korotyńskiego, Warszawa, Poland, (52.201198, 20.9734684, 0.0)),\n",
       " 'Warszawa,  Włochy': Location(Włochy, 01-001 Warsaw, Poland, (52.1799062, 20.9478161, 0.0)),\n",
       " 'Warszawa,  Włodarzewska': Location(Włodarzewska, Warszawa, Poland, (52.2021313, 20.9554848, 0.0)),\n",
       " 'Warszawa,  Za Żelazną Bramą': Location(plac Żelaznej Bramy, Warszawa, Poland, (52.2398835, 21.0016432, 0.0)),\n",
       " 'Warszawa,  Zacisze': Location(Zacisze, 01-001 Warszawa, Poland, (52.2861984, 21.0785932, 0.0)),\n",
       " 'Warszawa,  Zamiany': Location(Zamiany, Warszawa, Poland, (52.1610537, 21.0343247, 0.0)),\n",
       " 'Warszawa,  Zamiejska': Location(Zamiejska, Warszawa, Poland, (52.27576879999999, 21.0615891, 0.0)),\n",
       " 'Warszawa,  Zawady': Location(Zawady, 01-001 Warszawa, Poland, (52.166689, 21.1232024, 0.0)),\n",
       " 'Warszawa,  Zbytki': Location(Zbytki, 01-001 Warszawa, Poland, (52.201667, 21.1292692, 0.0)),\n",
       " 'Warszawa,  Zdziarska': Location(Zdziarska, Warszawa, Poland, (52.3407138, 21.054724, 0.0)),\n",
       " 'Warszawa,  Zerzeń': Location(Trakt Lubelski, 04-766 Warszawa – Zerzeń, Poland, (52.1964037, 21.1351042, 0.0)),\n",
       " 'Warszawa,  Zielona': Location(Zielona, Warszawa, Poland, (52.1859835, 21.0687622, 0.0)),\n",
       " 'Warszawa,  bezpośrednio przy parku Fort Bema': Location(Ogród społecznościowy, Waldorffa 32, 01-494 Warszawa, Poland, (52.2576577, 20.9419615, 0.0)),\n",
       " 'Warszawa,  cybernetyki 4a': Location(Cybernetyki 4, Warszawa, Poland, (52.1757828, 20.998111, 0.0)),\n",
       " 'Warszawa,  fasolowa 13': Location(Fasolowa 13, Warszawa, Poland, (52.1986769, 20.9098869, 0.0)),\n",
       " 'Warszawa,  kawcza 35': Location(Kawcza 35, Warszawa, Poland, (52.2383843, 21.1031384, 0.0)),\n",
       " 'Warszawa,  koło': Location(Koło, 05-077 Warszawa, Poland, (52.2467604, 20.9468105, 0.0)),\n",
       " 'Warszawa,  marszałkowska 81': Location(Marszałkowska 81, Warszawa, Poland, (52.225322, 21.0137839, 0.0)),\n",
       " 'Warszawa,  nowolipki': Location(Nowolipki, 05-077 Warszawa, Poland, (52.2443969, 20.9820228, 0.0)),\n",
       " 'Warszawa,  oaza wilanów': Location(Sobieskiego, 02-765 Warszawa, Poland, (52.1688914, 21.0691595, 0.0)),\n",
       " 'Warszawa,  park Fort Bema': Location(Fort Bema, 01-494 Warszawa, Poland, (52.2564788, 20.9385547, 0.0)),\n",
       " 'Warszawa,  part Fort Bema': Location(Fort Bema, 01-494 Warszawa, Poland, (52.2564788, 20.9385547, 0.0)),\n",
       " 'Warszawa,  plac unii lubelskiej': Location(plac Unii Lubelskiej, Warszawa, Poland, (52.2133862, 21.0214835, 0.0)),\n",
       " 'Warszawa,  przy Agorze': Location(Przy Agorze, Warszawa, Poland, (52.2924205, 20.9383828, 0.0)),\n",
       " 'Warszawa,  przy Conrada': Location(Conrada, Warszawa, Poland, (52.2756185, 20.9232495, 0.0)),\n",
       " 'Warszawa,  rosiniego': Location(Rossiniego, 01-001 Warszawa, Poland, (52.3434263, 21.0518419, 0.0)),\n",
       " 'Warszawa,  rynek Nowego Miasta': Location(rynek Nowego Miasta, Warszawa, Poland, (52.253108, 21.0084404, 0.0)),\n",
       " 'Warszawa,  skwer ks. kard. Stefana Wyszyńskiego': Location(skwer Kardynała Stefana Wyszyńskiego, Warszawa, Poland, (52.2396568, 20.9828857, 0.0)),\n",
       " 'Warszawa,  xxx': Location(Wolność 1/3, 01-018 Warszawa, Poland, (52.2408505, 20.9833047, 0.0)),\n",
       " 'Warszawa,  Łazienki': Location(Łazienki Park, 01-999 Warszawa, Poland, (52.2151532, 21.0349992, 0.0)),\n",
       " 'Warszawa,  Środkowa': Location(Środkowa, Warszawa, Poland, (52.2606185, 21.0401075, 0.0)),\n",
       " 'Warszawa,  Śródmieście': Location(Śródmieście, 05-077 Warsaw, Poland, (52.2296756, 21.0122287, 0.0)),\n",
       " 'Warszawa,  Śródmieście Południowe': Location(Śródmieście Południowe, 14-100 Warszawa, Poland, (52.2229497, 21.0152032, 0.0)),\n",
       " 'Warszawa,  Śródmieście Północne': Location(Śródmieście Północne, 05-077 Warszawa, Poland, (52.23546349999999, 21.0076736, 0.0)),\n",
       " 'Warszawa,  Świderskiej 109': Location(Świderska 109, Warszawa, Poland, (52.31799600000001, 20.9467979, 0.0)),\n",
       " 'Warszawa,  Świętochowskiego': Location(Świętochowskiego, Warszawa, Poland, (52.2349167, 20.8997134, 0.0)),\n",
       " 'Warszawa,  św. Bonifacego': Location(Świętego Bonifacego, Warszawa, Poland, (52.1827501, 21.0574272, 0.0)),\n",
       " 'Warszawa,  Żeglugi Wiślanej': Location(Żeglugi Wiślanej, Warszawa, Poland, (52.3607109, 21.0366412, 0.0)),\n",
       " 'Warszawa,  Żelazna': Location(Żelazna, Warszawa, Poland, (52.2346685, 20.9907683, 0.0)),\n",
       " 'Warszawa,  Żelazna 58': Location(Żelazna 58, 00-806 Warszawa, Poland, (52.235649, 20.9906714, 0.0)),\n",
       " 'Warszawa,  Żerań': Location(05-077 Warsaw, Poland, (52.3134083, 20.9996062, 0.0)),\n",
       " 'Warszawa,  Żoliborz': Location(Żoliborz, 05-077 Warsaw, Poland, (52.26932859999999, 20.9818745, 0.0)),\n",
       " 'Warszawa,  Żurawia': Location(Żurawia, Warszawa, Poland, (52.2285658, 21.0160894, 0.0))}"
      ]
     },
     "execution_count": 44,
     "metadata": {},
     "output_type": "execute_result"
    }
   ],
   "source": [
    "d = {}\n",
    "\n",
    "for location in locations:\n",
    "    d[location] = locate(location)\n"
   ]
  },
  {
   "cell_type": "code",
   "execution_count": 87,
   "metadata": {
    "scrolled": true
   },
   "outputs": [
    {
     "data": {
      "text/html": [
       "<div>\n",
       "<style>\n",
       "    .dataframe thead tr:only-child th {\n",
       "        text-align: right;\n",
       "    }\n",
       "\n",
       "    .dataframe thead th {\n",
       "        text-align: left;\n",
       "    }\n",
       "\n",
       "    .dataframe tbody tr th {\n",
       "        vertical-align: top;\n",
       "    }\n",
       "</style>\n",
       "<table border=\"1\" class=\"dataframe\">\n",
       "  <thead>\n",
       "    <tr style=\"text-align: right;\">\n",
       "      <th></th>\n",
       "      <th>Area</th>\n",
       "      <th>Location</th>\n",
       "      <th>Price</th>\n",
       "      <th>Rooms</th>\n",
       "    </tr>\n",
       "  </thead>\n",
       "  <tbody>\n",
       "    <tr>\n",
       "      <th>0</th>\n",
       "      <td>31.00</td>\n",
       "      <td>(Wola, 05-077 Warsaw, Poland, (52.2333751, 20....</td>\n",
       "      <td>230000.0</td>\n",
       "      <td>2</td>\n",
       "    </tr>\n",
       "    <tr>\n",
       "      <th>1</th>\n",
       "      <td>46.00</td>\n",
       "      <td>(Wola, 05-077 Warsaw, Poland, (52.2333751, 20....</td>\n",
       "      <td>306000.0</td>\n",
       "      <td>2</td>\n",
       "    </tr>\n",
       "    <tr>\n",
       "      <th>3</th>\n",
       "      <td>64.49</td>\n",
       "      <td>(Wola, 05-077 Warsaw, Poland, (52.2333751, 20....</td>\n",
       "      <td>542304.0</td>\n",
       "      <td>3</td>\n",
       "    </tr>\n",
       "    <tr>\n",
       "      <th>4</th>\n",
       "      <td>46.63</td>\n",
       "      <td>(Targówek, 01-001 Warsaw, Poland, (52.2823819,...</td>\n",
       "      <td>299000.0</td>\n",
       "      <td>2</td>\n",
       "    </tr>\n",
       "    <tr>\n",
       "      <th>5</th>\n",
       "      <td>46.00</td>\n",
       "      <td>(Szmulowizna, 05-077 Warszawa, Poland, (52.258...</td>\n",
       "      <td>299000.0</td>\n",
       "      <td>3</td>\n",
       "    </tr>\n",
       "  </tbody>\n",
       "</table>\n",
       "</div>"
      ],
      "text/plain": [
       "    Area                                           Location     Price  Rooms\n",
       "0  31.00  (Wola, 05-077 Warsaw, Poland, (52.2333751, 20....  230000.0      2\n",
       "1  46.00  (Wola, 05-077 Warsaw, Poland, (52.2333751, 20....  306000.0      2\n",
       "3  64.49  (Wola, 05-077 Warsaw, Poland, (52.2333751, 20....  542304.0      3\n",
       "4  46.63  (Targówek, 01-001 Warsaw, Poland, (52.2823819,...  299000.0      2\n",
       "5  46.00  (Szmulowizna, 05-077 Warszawa, Poland, (52.258...  299000.0      3"
      ]
     },
     "execution_count": 87,
     "metadata": {},
     "output_type": "execute_result"
    }
   ],
   "source": [
    "#df['Location'] = df['Location'].map(d)\n",
    "df.head()"
   ]
  },
  {
   "cell_type": "code",
   "execution_count": 90,
   "metadata": {},
   "outputs": [
    {
     "name": "stdout",
     "output_type": "stream",
     "text": [
      "<class 'pandas.core.frame.DataFrame'>\n",
      "Int64Index: 27456 entries, 0 to 45023\n",
      "Data columns (total 6 columns):\n",
      "Area        27456 non-null float64\n",
      "Location    27448 non-null object\n",
      "Price       27456 non-null float64\n",
      "Rooms       27456 non-null int64\n",
      "Long        27448 non-null float64\n",
      "Lat         27448 non-null float64\n",
      "dtypes: float64(4), int64(1), object(1)\n",
      "memory usage: 2.7+ MB\n"
     ]
    }
   ],
   "source": [
    "df['Long'] = df['Location'].apply(lambda x: x.longitude if x else None)\n",
    "df['Lat'] = df['Location'].apply(lambda x: x.latitude if x else None)\n",
    "df.info()"
   ]
  },
  {
   "cell_type": "code",
   "execution_count": 93,
   "metadata": {},
   "outputs": [
    {
     "name": "stdout",
     "output_type": "stream",
     "text": [
      "<class 'pandas.core.frame.DataFrame'>\n",
      "Int64Index: 27448 entries, 0 to 45023\n",
      "Data columns (total 6 columns):\n",
      "Area        27448 non-null float64\n",
      "Location    27448 non-null object\n",
      "Price       27448 non-null float64\n",
      "Rooms       27448 non-null int64\n",
      "Long        27448 non-null float64\n",
      "Lat         27448 non-null float64\n",
      "dtypes: float64(4), int64(1), object(1)\n",
      "memory usage: 1.5+ MB\n"
     ]
    }
   ],
   "source": [
    "df.dropna(inplace=True)\n",
    "df.info()"
   ]
  },
  {
   "cell_type": "markdown",
   "metadata": {},
   "source": [
    "### If you coulnd follow the steps I give you processed df in csv :)\n",
    "#### *It is dated to 09.09.2017"
   ]
  },
  {
   "cell_type": "code",
   "execution_count": 94,
   "metadata": {
    "collapsed": true
   },
   "outputs": [],
   "source": [
    "df = pd.read_csv('processed_df', index_col=0)"
   ]
  },
  {
   "cell_type": "markdown",
   "metadata": {},
   "source": [
    "### Import all Data-Visualisation liberaries"
   ]
  },
  {
   "cell_type": "code",
   "execution_count": 96,
   "metadata": {
    "collapsed": true
   },
   "outputs": [],
   "source": [
    "import seaborn as sns\n",
    "import matplotlib.pyplot as plt\n",
    "%matplotlib inline"
   ]
  },
  {
   "cell_type": "code",
   "execution_count": 97,
   "metadata": {},
   "outputs": [
    {
     "data": {
      "image/png": "[encoded data removed]",
      "text/plain": [
       "<matplotlib.figure.Figure at 0x11abbb978>"
      ]
     },
     "metadata": {},
     "output_type": "display_data"
    }
   ],
   "source": [
    "sns.regplot(x='Price', y='Area', data=df)\n",
    "plt.tight_layout()"
   ]
  },
  {
   "cell_type": "code",
   "execution_count": null,
   "metadata": {
    "collapsed": true
   },
   "outputs": [],
   "source": []
  }
 ],
 "metadata": {
  "kernelspec": {
   "display_name": "Python 3",
   "language": "python",
   "name": "python3"
  },
  "language_info": {
   "codemirror_mode": {
    "name": "ipython",
    "version": 3
   },
   "file_extension": ".py",
   "mimetype": "text/x-python",
   "name": "python",
   "nbconvert_exporter": "python",
   "pygments_lexer": "ipython3",
   "version": "3.6.2"
  }
 },
 "nbformat": 4,
 "nbformat_minor": 2
}
